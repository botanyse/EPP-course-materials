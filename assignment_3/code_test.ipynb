{
 "cells": [
  {
   "cell_type": "code",
   "execution_count": 2,
   "metadata": {},
   "outputs": [],
   "source": [
    "from pathlib import Path\n",
    "\n",
    "import numpy as np\n",
    "import pandas as pd\n",
    "import plotly.express as px\n",
    "from sklearn.linear_model import LinearRegression\n",
    "\n",
    "pd.options.mode.copy_on_write = True\n",
    "pd.options.future.infer_string = True\n",
    "pd.options.plotting.backend = \"plotly\""
   ]
  },
  {
   "cell_type": "code",
   "execution_count": 3,
   "metadata": {},
   "outputs": [],
   "source": [
    "true_params = np.ones(6)\n",
    "y_sd = 1.5\n",
    "cov_type = \"random\"\n",
    "mean = np.zeros(len(true_params))\n",
    "meas_sds = np.linspace(0, 5, 10) # measurement error std\n",
    "n_repetitions = 200\n",
    "rng = np.random.default_rng(925408)\n",
    "n_obs = 2_000"
   ]
  },
  {
   "cell_type": "code",
   "execution_count": 4,
   "metadata": {},
   "outputs": [],
   "source": [
    "n_params = len(true_params)\n",
    "    # Set up parameter names for plotting\n",
    "names = [f\"x_{i}\" for i in range(len(true_params))]\n",
    "    # Initialize list to which we will append DataFrames that are concatenated later\n",
    "to_concat = []\n",
    "for meas_sd in meas_sds:\n",
    "        # Create a covariance matrix for the x variables\n",
    "    if cov_type == \"deterministic\":\n",
    "        cov = np.eye(n_params) + 0.2\n",
    "    elif cov_type == \"random\":\n",
    "            # Create a random but valid (i.e. symmetric positive semi-definite)\n",
    "            # covariance matrix by multiplying a random matrix with its transpose\n",
    "            # and adding 1 to the diagonal to improve conditioning\n",
    "        helper = rng.uniform(low=-1, high=1, size=(n_params, n_params))\n",
    "        cov = helper @ helper.T + np.eye(n_params)\n",
    "    else:\n",
    "        msg = f\"Invalid cov_type: {cov_type}. Must be 'random' or 'deterministic.'\"\n",
    "        raise ValueError(\n",
    "            msg,\n",
    "        )\n",
    "\n",
    "        # Set up a list to which we will append parameter estimates\n",
    "    estimates = []\n",
    "    for _ in range(n_repetitions):\n",
    "            # Create independent variables\n",
    "        x = rng.multivariate_normal(mean=mean, cov=cov, size=n_obs)\n",
    "            # Draw error\n",
    "        epsilon = rng.normal(loc=0, scale=y_sd, size=n_obs)\n",
    "            # Calculate y (before adding measurement error!)\n",
    "        y = x @ true_params + epsilon\n",
    "            # Draw measurement error\n",
    "        meas_error = rng.normal(loc=0, scale=meas_sd, size=n_obs)\n",
    "            # Add measurement error\n",
    "        x[:, 0] += meas_error\n",
    "            # Calculate parameter estimates\n",
    "        params = LinearRegression().fit(x, y).coef_\n",
    "            # append them to the list of estimates\n",
    "        estimates.append(params)\n",
    "\n",
    "        # Set up empty DataFrame and add results we need for plotting\n",
    "    df = pd.DataFrame()\n",
    "    deviations = np.array(estimates) - true_params\n",
    "    df[\"name\"] = names\n",
    "    df[\"bias\"] = deviations.mean(axis=0)\n",
    "    df[\"rmse\"] = np.sqrt((deviations**2).mean(axis=0))\n",
    "    df[\"meas_sd\"] = meas_sd\n",
    "    to_concat.append(df)\n",
    "\n",
    "    # Concatenate the DataFrame\n",
    "data = pd.concat(to_concat)"
   ]
  },
  {
   "cell_type": "code",
   "execution_count": null,
   "metadata": {},
   "outputs": [],
   "source": []
  },
  {
   "cell_type": "code",
   "execution_count": 5,
   "metadata": {},
   "outputs": [],
   "source": [
    "this_file_dir = Path(\".\").resolve()"
   ]
  },
  {
   "cell_type": "code",
   "execution_count": 6,
   "metadata": {},
   "outputs": [],
   "source": [
    "data_path = this_file_dir / \"bld\" / \"results.pkl\"\n",
    "data = pd.read_pickle(data_path)"
   ]
  },
  {
   "cell_type": "code",
   "execution_count": 7,
   "metadata": {},
   "outputs": [
    {
     "data": {
      "text/plain": [
       "(200, 6)"
      ]
     },
     "execution_count": 7,
     "metadata": {},
     "output_type": "execute_result"
    }
   ],
   "source": [
    "deviations.shape"
   ]
  },
  {
   "cell_type": "code",
   "execution_count": 8,
   "metadata": {},
   "outputs": [
    {
     "data": {
      "text/html": [
       "<div>\n",
       "<style scoped>\n",
       "    .dataframe tbody tr th:only-of-type {\n",
       "        vertical-align: middle;\n",
       "    }\n",
       "\n",
       "    .dataframe tbody tr th {\n",
       "        vertical-align: top;\n",
       "    }\n",
       "\n",
       "    .dataframe thead th {\n",
       "        text-align: right;\n",
       "    }\n",
       "</style>\n",
       "<table border=\"1\" class=\"dataframe\">\n",
       "  <thead>\n",
       "    <tr style=\"text-align: right;\">\n",
       "      <th></th>\n",
       "      <th>name</th>\n",
       "      <th>bias</th>\n",
       "      <th>rmse</th>\n",
       "      <th>meas_sd</th>\n",
       "    </tr>\n",
       "  </thead>\n",
       "  <tbody>\n",
       "    <tr>\n",
       "      <th>0</th>\n",
       "      <td>x_0</td>\n",
       "      <td>0.002187</td>\n",
       "      <td>0.021335</td>\n",
       "      <td>0.000000</td>\n",
       "    </tr>\n",
       "    <tr>\n",
       "      <th>1</th>\n",
       "      <td>x_1</td>\n",
       "      <td>-0.000761</td>\n",
       "      <td>0.025728</td>\n",
       "      <td>0.000000</td>\n",
       "    </tr>\n",
       "    <tr>\n",
       "      <th>2</th>\n",
       "      <td>x_2</td>\n",
       "      <td>0.001714</td>\n",
       "      <td>0.023037</td>\n",
       "      <td>0.000000</td>\n",
       "    </tr>\n",
       "    <tr>\n",
       "      <th>3</th>\n",
       "      <td>x_3</td>\n",
       "      <td>-0.002656</td>\n",
       "      <td>0.022499</td>\n",
       "      <td>0.000000</td>\n",
       "    </tr>\n",
       "    <tr>\n",
       "      <th>4</th>\n",
       "      <td>x_4</td>\n",
       "      <td>0.000044</td>\n",
       "      <td>0.024940</td>\n",
       "      <td>0.000000</td>\n",
       "    </tr>\n",
       "    <tr>\n",
       "      <th>5</th>\n",
       "      <td>x_5</td>\n",
       "      <td>0.000738</td>\n",
       "      <td>0.020006</td>\n",
       "      <td>0.000000</td>\n",
       "    </tr>\n",
       "    <tr>\n",
       "      <th>0</th>\n",
       "      <td>x_0</td>\n",
       "      <td>-0.177050</td>\n",
       "      <td>0.178942</td>\n",
       "      <td>0.555556</td>\n",
       "    </tr>\n",
       "    <tr>\n",
       "      <th>1</th>\n",
       "      <td>x_1</td>\n",
       "      <td>0.016457</td>\n",
       "      <td>0.034241</td>\n",
       "      <td>0.555556</td>\n",
       "    </tr>\n",
       "    <tr>\n",
       "      <th>2</th>\n",
       "      <td>x_2</td>\n",
       "      <td>-0.035669</td>\n",
       "      <td>0.045298</td>\n",
       "      <td>0.555556</td>\n",
       "    </tr>\n",
       "    <tr>\n",
       "      <th>3</th>\n",
       "      <td>x_3</td>\n",
       "      <td>-0.050072</td>\n",
       "      <td>0.055041</td>\n",
       "      <td>0.555556</td>\n",
       "    </tr>\n",
       "    <tr>\n",
       "      <th>4</th>\n",
       "      <td>x_4</td>\n",
       "      <td>-0.048002</td>\n",
       "      <td>0.052970</td>\n",
       "      <td>0.555556</td>\n",
       "    </tr>\n",
       "    <tr>\n",
       "      <th>5</th>\n",
       "      <td>x_5</td>\n",
       "      <td>-0.048027</td>\n",
       "      <td>0.054717</td>\n",
       "      <td>0.555556</td>\n",
       "    </tr>\n",
       "    <tr>\n",
       "      <th>0</th>\n",
       "      <td>x_0</td>\n",
       "      <td>-0.390895</td>\n",
       "      <td>0.391606</td>\n",
       "      <td>1.111111</td>\n",
       "    </tr>\n",
       "    <tr>\n",
       "      <th>1</th>\n",
       "      <td>x_1</td>\n",
       "      <td>-0.057336</td>\n",
       "      <td>0.062539</td>\n",
       "      <td>1.111111</td>\n",
       "    </tr>\n",
       "    <tr>\n",
       "      <th>2</th>\n",
       "      <td>x_2</td>\n",
       "      <td>-0.040841</td>\n",
       "      <td>0.047207</td>\n",
       "      <td>1.111111</td>\n",
       "    </tr>\n",
       "    <tr>\n",
       "      <th>3</th>\n",
       "      <td>x_3</td>\n",
       "      <td>0.065294</td>\n",
       "      <td>0.070069</td>\n",
       "      <td>1.111111</td>\n",
       "    </tr>\n",
       "    <tr>\n",
       "      <th>4</th>\n",
       "      <td>x_4</td>\n",
       "      <td>0.074618</td>\n",
       "      <td>0.080984</td>\n",
       "      <td>1.111111</td>\n",
       "    </tr>\n",
       "    <tr>\n",
       "      <th>5</th>\n",
       "      <td>x_5</td>\n",
       "      <td>-0.078277</td>\n",
       "      <td>0.081735</td>\n",
       "      <td>1.111111</td>\n",
       "    </tr>\n",
       "    <tr>\n",
       "      <th>0</th>\n",
       "      <td>x_0</td>\n",
       "      <td>-0.612466</td>\n",
       "      <td>0.612782</td>\n",
       "      <td>1.666667</td>\n",
       "    </tr>\n",
       "    <tr>\n",
       "      <th>1</th>\n",
       "      <td>x_1</td>\n",
       "      <td>0.062828</td>\n",
       "      <td>0.066229</td>\n",
       "      <td>1.666667</td>\n",
       "    </tr>\n",
       "    <tr>\n",
       "      <th>2</th>\n",
       "      <td>x_2</td>\n",
       "      <td>0.010294</td>\n",
       "      <td>0.040607</td>\n",
       "      <td>1.666667</td>\n",
       "    </tr>\n",
       "    <tr>\n",
       "      <th>3</th>\n",
       "      <td>x_3</td>\n",
       "      <td>0.299359</td>\n",
       "      <td>0.300831</td>\n",
       "      <td>1.666667</td>\n",
       "    </tr>\n",
       "    <tr>\n",
       "      <th>4</th>\n",
       "      <td>x_4</td>\n",
       "      <td>-0.058787</td>\n",
       "      <td>0.063198</td>\n",
       "      <td>1.666667</td>\n",
       "    </tr>\n",
       "    <tr>\n",
       "      <th>5</th>\n",
       "      <td>x_5</td>\n",
       "      <td>0.085453</td>\n",
       "      <td>0.089639</td>\n",
       "      <td>1.666667</td>\n",
       "    </tr>\n",
       "    <tr>\n",
       "      <th>0</th>\n",
       "      <td>x_0</td>\n",
       "      <td>-0.784148</td>\n",
       "      <td>0.784269</td>\n",
       "      <td>2.222222</td>\n",
       "    </tr>\n",
       "    <tr>\n",
       "      <th>1</th>\n",
       "      <td>x_1</td>\n",
       "      <td>0.095813</td>\n",
       "      <td>0.099832</td>\n",
       "      <td>2.222222</td>\n",
       "    </tr>\n",
       "    <tr>\n",
       "      <th>2</th>\n",
       "      <td>x_2</td>\n",
       "      <td>0.165565</td>\n",
       "      <td>0.168861</td>\n",
       "      <td>2.222222</td>\n",
       "    </tr>\n",
       "    <tr>\n",
       "      <th>3</th>\n",
       "      <td>x_3</td>\n",
       "      <td>0.017182</td>\n",
       "      <td>0.032522</td>\n",
       "      <td>2.222222</td>\n",
       "    </tr>\n",
       "    <tr>\n",
       "      <th>4</th>\n",
       "      <td>x_4</td>\n",
       "      <td>-0.140742</td>\n",
       "      <td>0.142899</td>\n",
       "      <td>2.222222</td>\n",
       "    </tr>\n",
       "    <tr>\n",
       "      <th>5</th>\n",
       "      <td>x_5</td>\n",
       "      <td>-0.117683</td>\n",
       "      <td>0.121910</td>\n",
       "      <td>2.222222</td>\n",
       "    </tr>\n",
       "    <tr>\n",
       "      <th>0</th>\n",
       "      <td>x_0</td>\n",
       "      <td>-0.732324</td>\n",
       "      <td>0.732471</td>\n",
       "      <td>2.777778</td>\n",
       "    </tr>\n",
       "    <tr>\n",
       "      <th>1</th>\n",
       "      <td>x_1</td>\n",
       "      <td>0.146458</td>\n",
       "      <td>0.148502</td>\n",
       "      <td>2.777778</td>\n",
       "    </tr>\n",
       "    <tr>\n",
       "      <th>2</th>\n",
       "      <td>x_2</td>\n",
       "      <td>0.058970</td>\n",
       "      <td>0.067240</td>\n",
       "      <td>2.777778</td>\n",
       "    </tr>\n",
       "    <tr>\n",
       "      <th>3</th>\n",
       "      <td>x_3</td>\n",
       "      <td>-0.022404</td>\n",
       "      <td>0.035211</td>\n",
       "      <td>2.777778</td>\n",
       "    </tr>\n",
       "    <tr>\n",
       "      <th>4</th>\n",
       "      <td>x_4</td>\n",
       "      <td>0.330777</td>\n",
       "      <td>0.331897</td>\n",
       "      <td>2.777778</td>\n",
       "    </tr>\n",
       "    <tr>\n",
       "      <th>5</th>\n",
       "      <td>x_5</td>\n",
       "      <td>0.355746</td>\n",
       "      <td>0.357131</td>\n",
       "      <td>2.777778</td>\n",
       "    </tr>\n",
       "    <tr>\n",
       "      <th>0</th>\n",
       "      <td>x_0</td>\n",
       "      <td>-0.877564</td>\n",
       "      <td>0.877628</td>\n",
       "      <td>3.333333</td>\n",
       "    </tr>\n",
       "    <tr>\n",
       "      <th>1</th>\n",
       "      <td>x_1</td>\n",
       "      <td>0.053165</td>\n",
       "      <td>0.060888</td>\n",
       "      <td>3.333333</td>\n",
       "    </tr>\n",
       "    <tr>\n",
       "      <th>2</th>\n",
       "      <td>x_2</td>\n",
       "      <td>-0.248786</td>\n",
       "      <td>0.250434</td>\n",
       "      <td>3.333333</td>\n",
       "    </tr>\n",
       "    <tr>\n",
       "      <th>3</th>\n",
       "      <td>x_3</td>\n",
       "      <td>-0.206020</td>\n",
       "      <td>0.208063</td>\n",
       "      <td>3.333333</td>\n",
       "    </tr>\n",
       "    <tr>\n",
       "      <th>4</th>\n",
       "      <td>x_4</td>\n",
       "      <td>-0.082702</td>\n",
       "      <td>0.086323</td>\n",
       "      <td>3.333333</td>\n",
       "    </tr>\n",
       "    <tr>\n",
       "      <th>5</th>\n",
       "      <td>x_5</td>\n",
       "      <td>0.003463</td>\n",
       "      <td>0.027241</td>\n",
       "      <td>3.333333</td>\n",
       "    </tr>\n",
       "    <tr>\n",
       "      <th>0</th>\n",
       "      <td>x_0</td>\n",
       "      <td>-0.824433</td>\n",
       "      <td>0.824516</td>\n",
       "      <td>3.888889</td>\n",
       "    </tr>\n",
       "    <tr>\n",
       "      <th>1</th>\n",
       "      <td>x_1</td>\n",
       "      <td>0.238658</td>\n",
       "      <td>0.240995</td>\n",
       "      <td>3.888889</td>\n",
       "    </tr>\n",
       "    <tr>\n",
       "      <th>2</th>\n",
       "      <td>x_2</td>\n",
       "      <td>-0.068524</td>\n",
       "      <td>0.076348</td>\n",
       "      <td>3.888889</td>\n",
       "    </tr>\n",
       "    <tr>\n",
       "      <th>3</th>\n",
       "      <td>x_3</td>\n",
       "      <td>0.050728</td>\n",
       "      <td>0.060256</td>\n",
       "      <td>3.888889</td>\n",
       "    </tr>\n",
       "    <tr>\n",
       "      <th>4</th>\n",
       "      <td>x_4</td>\n",
       "      <td>-0.026313</td>\n",
       "      <td>0.054629</td>\n",
       "      <td>3.888889</td>\n",
       "    </tr>\n",
       "    <tr>\n",
       "      <th>5</th>\n",
       "      <td>x_5</td>\n",
       "      <td>-0.264989</td>\n",
       "      <td>0.267384</td>\n",
       "      <td>3.888889</td>\n",
       "    </tr>\n",
       "    <tr>\n",
       "      <th>0</th>\n",
       "      <td>x_0</td>\n",
       "      <td>-0.923573</td>\n",
       "      <td>0.923610</td>\n",
       "      <td>4.444444</td>\n",
       "    </tr>\n",
       "    <tr>\n",
       "      <th>1</th>\n",
       "      <td>x_1</td>\n",
       "      <td>-0.127976</td>\n",
       "      <td>0.130737</td>\n",
       "      <td>4.444444</td>\n",
       "    </tr>\n",
       "    <tr>\n",
       "      <th>2</th>\n",
       "      <td>x_2</td>\n",
       "      <td>-0.077591</td>\n",
       "      <td>0.081547</td>\n",
       "      <td>4.444444</td>\n",
       "    </tr>\n",
       "    <tr>\n",
       "      <th>3</th>\n",
       "      <td>x_3</td>\n",
       "      <td>-0.384117</td>\n",
       "      <td>0.385562</td>\n",
       "      <td>4.444444</td>\n",
       "    </tr>\n",
       "    <tr>\n",
       "      <th>4</th>\n",
       "      <td>x_4</td>\n",
       "      <td>0.111451</td>\n",
       "      <td>0.117393</td>\n",
       "      <td>4.444444</td>\n",
       "    </tr>\n",
       "    <tr>\n",
       "      <th>5</th>\n",
       "      <td>x_5</td>\n",
       "      <td>0.021891</td>\n",
       "      <td>0.039063</td>\n",
       "      <td>4.444444</td>\n",
       "    </tr>\n",
       "    <tr>\n",
       "      <th>0</th>\n",
       "      <td>x_0</td>\n",
       "      <td>-0.909864</td>\n",
       "      <td>0.909907</td>\n",
       "      <td>5.000000</td>\n",
       "    </tr>\n",
       "    <tr>\n",
       "      <th>1</th>\n",
       "      <td>x_1</td>\n",
       "      <td>-0.128070</td>\n",
       "      <td>0.131372</td>\n",
       "      <td>5.000000</td>\n",
       "    </tr>\n",
       "    <tr>\n",
       "      <th>2</th>\n",
       "      <td>x_2</td>\n",
       "      <td>-0.100779</td>\n",
       "      <td>0.105022</td>\n",
       "      <td>5.000000</td>\n",
       "    </tr>\n",
       "    <tr>\n",
       "      <th>3</th>\n",
       "      <td>x_3</td>\n",
       "      <td>0.052421</td>\n",
       "      <td>0.058478</td>\n",
       "      <td>5.000000</td>\n",
       "    </tr>\n",
       "    <tr>\n",
       "      <th>4</th>\n",
       "      <td>x_4</td>\n",
       "      <td>0.062428</td>\n",
       "      <td>0.068052</td>\n",
       "      <td>5.000000</td>\n",
       "    </tr>\n",
       "    <tr>\n",
       "      <th>5</th>\n",
       "      <td>x_5</td>\n",
       "      <td>-0.119580</td>\n",
       "      <td>0.126607</td>\n",
       "      <td>5.000000</td>\n",
       "    </tr>\n",
       "  </tbody>\n",
       "</table>\n",
       "</div>"
      ],
      "text/plain": [
       "  name      bias      rmse   meas_sd\n",
       "0  x_0  0.002187  0.021335  0.000000\n",
       "1  x_1 -0.000761  0.025728  0.000000\n",
       "2  x_2  0.001714  0.023037  0.000000\n",
       "3  x_3 -0.002656  0.022499  0.000000\n",
       "4  x_4  0.000044  0.024940  0.000000\n",
       "5  x_5  0.000738  0.020006  0.000000\n",
       "0  x_0 -0.177050  0.178942  0.555556\n",
       "1  x_1  0.016457  0.034241  0.555556\n",
       "2  x_2 -0.035669  0.045298  0.555556\n",
       "3  x_3 -0.050072  0.055041  0.555556\n",
       "4  x_4 -0.048002  0.052970  0.555556\n",
       "5  x_5 -0.048027  0.054717  0.555556\n",
       "0  x_0 -0.390895  0.391606  1.111111\n",
       "1  x_1 -0.057336  0.062539  1.111111\n",
       "2  x_2 -0.040841  0.047207  1.111111\n",
       "3  x_3  0.065294  0.070069  1.111111\n",
       "4  x_4  0.074618  0.080984  1.111111\n",
       "5  x_5 -0.078277  0.081735  1.111111\n",
       "0  x_0 -0.612466  0.612782  1.666667\n",
       "1  x_1  0.062828  0.066229  1.666667\n",
       "2  x_2  0.010294  0.040607  1.666667\n",
       "3  x_3  0.299359  0.300831  1.666667\n",
       "4  x_4 -0.058787  0.063198  1.666667\n",
       "5  x_5  0.085453  0.089639  1.666667\n",
       "0  x_0 -0.784148  0.784269  2.222222\n",
       "1  x_1  0.095813  0.099832  2.222222\n",
       "2  x_2  0.165565  0.168861  2.222222\n",
       "3  x_3  0.017182  0.032522  2.222222\n",
       "4  x_4 -0.140742  0.142899  2.222222\n",
       "5  x_5 -0.117683  0.121910  2.222222\n",
       "0  x_0 -0.732324  0.732471  2.777778\n",
       "1  x_1  0.146458  0.148502  2.777778\n",
       "2  x_2  0.058970  0.067240  2.777778\n",
       "3  x_3 -0.022404  0.035211  2.777778\n",
       "4  x_4  0.330777  0.331897  2.777778\n",
       "5  x_5  0.355746  0.357131  2.777778\n",
       "0  x_0 -0.877564  0.877628  3.333333\n",
       "1  x_1  0.053165  0.060888  3.333333\n",
       "2  x_2 -0.248786  0.250434  3.333333\n",
       "3  x_3 -0.206020  0.208063  3.333333\n",
       "4  x_4 -0.082702  0.086323  3.333333\n",
       "5  x_5  0.003463  0.027241  3.333333\n",
       "0  x_0 -0.824433  0.824516  3.888889\n",
       "1  x_1  0.238658  0.240995  3.888889\n",
       "2  x_2 -0.068524  0.076348  3.888889\n",
       "3  x_3  0.050728  0.060256  3.888889\n",
       "4  x_4 -0.026313  0.054629  3.888889\n",
       "5  x_5 -0.264989  0.267384  3.888889\n",
       "0  x_0 -0.923573  0.923610  4.444444\n",
       "1  x_1 -0.127976  0.130737  4.444444\n",
       "2  x_2 -0.077591  0.081547  4.444444\n",
       "3  x_3 -0.384117  0.385562  4.444444\n",
       "4  x_4  0.111451  0.117393  4.444444\n",
       "5  x_5  0.021891  0.039063  4.444444\n",
       "0  x_0 -0.909864  0.909907  5.000000\n",
       "1  x_1 -0.128070  0.131372  5.000000\n",
       "2  x_2 -0.100779  0.105022  5.000000\n",
       "3  x_3  0.052421  0.058478  5.000000\n",
       "4  x_4  0.062428  0.068052  5.000000\n",
       "5  x_5 -0.119580  0.126607  5.000000"
      ]
     },
     "execution_count": 8,
     "metadata": {},
     "output_type": "execute_result"
    }
   ],
   "source": [
    "data"
   ]
  },
  {
   "cell_type": "code",
   "execution_count": 16,
   "metadata": {},
   "outputs": [
    {
     "data": {
      "text/plain": [
       "False"
      ]
     },
     "execution_count": 16,
     "metadata": {},
     "output_type": "execute_result"
    }
   ],
   "source": [
    "x = data.loc[data[\"name\"] == \"x_1\", [\"bias\"]]\n",
    "x = x.iloc[3:]\n",
    "actual =x.reset_index(drop=True).values\n",
    "all(sorted(actual, reverse=True) == actual)"
   ]
  },
  {
   "cell_type": "code",
   "execution_count": 35,
   "metadata": {},
   "outputs": [
    {
     "data": {
      "text/plain": [
       "[0.002187126443792598,\n",
       " -0.17705035497314875,\n",
       " -0.3908949852058292,\n",
       " -0.6124660883780525,\n",
       " -0.7323237324328714,\n",
       " -0.7841479151109705,\n",
       " -0.8244326097873482,\n",
       " -0.8775639248925837,\n",
       " -0.9098643267718167,\n",
       " -0.9235730506124823]"
      ]
     },
     "execution_count": 35,
     "metadata": {},
     "output_type": "execute_result"
    }
   ],
   "source": [
    "biases = data[\"bias\"]\n",
    "biases = biases[data[\"name\"] == \"x_0\" ]\n",
    "biases\n",
    "sorted(biases, reverse=True)"
   ]
  },
  {
   "cell_type": "code",
   "execution_count": 34,
   "metadata": {},
   "outputs": [
    {
     "data": {
      "text/plain": [
       "array([-0.17705035, -0.39089499, -0.61246609, -0.78414792, -0.73232373,\n",
       "       -0.87756392, -0.82443261, -0.92357305, -0.90986433])"
      ]
     },
     "execution_count": 34,
     "metadata": {},
     "output_type": "execute_result"
    }
   ],
   "source": [
    "biases = biases.reset_index(drop=True).values\n",
    "biases"
   ]
  },
  {
   "cell_type": "code",
   "execution_count": 23,
   "metadata": {},
   "outputs": [
    {
     "data": {
      "text/plain": [
       "False"
      ]
     },
     "execution_count": 23,
     "metadata": {},
     "output_type": "execute_result"
    }
   ],
   "source": [
    "all(sorted(biases, reverse=True) == biases)"
   ]
  },
  {
   "cell_type": "code",
   "execution_count": 22,
   "metadata": {},
   "outputs": [
    {
     "data": {
      "text/plain": [
       "True"
      ]
     },
     "execution_count": 22,
     "metadata": {},
     "output_type": "execute_result"
    }
   ],
   "source": [
    "all(b < 0 for b in biases)"
   ]
  },
  {
   "cell_type": "code",
   "execution_count": 213,
   "metadata": {},
   "outputs": [],
   "source": [
    "expected = -np.ones_like(actual)\n",
    "np.testing.assert_array_almost_equal(np.round(actual),np.round(expected))"
   ]
  },
  {
   "cell_type": "code",
   "execution_count": 9,
   "metadata": {},
   "outputs": [],
   "source": [
    "true_params = np.ones(6)\n",
    "y_sd = 1.5\n",
    "cov_type = \"random\"\n",
    "mean = np.zeros(len(true_params))\n"
   ]
  },
  {
   "cell_type": "code",
   "execution_count": 1,
   "metadata": {},
   "outputs": [
    {
     "data": {
      "text/plain": [
       "'/Users/belacquator/epp/EPP-course-materials/assignment_3'"
      ]
     },
     "execution_count": 1,
     "metadata": {},
     "output_type": "execute_result"
    }
   ],
   "source": []
  },
  {
   "cell_type": "code",
   "execution_count": 39,
   "metadata": {},
   "outputs": [
    {
     "data": {
      "text/plain": [
       "array([0.        , 0.55555556, 1.11111111, 1.66666667, 2.22222222,\n",
       "       2.77777778, 3.33333333, 3.88888889, 4.44444444, 5.        ])"
      ]
     },
     "execution_count": 39,
     "metadata": {},
     "output_type": "execute_result"
    }
   ],
   "source": [
    "meas_sds"
   ]
  },
  {
   "cell_type": "code",
   "execution_count": 66,
   "metadata": {},
   "outputs": [],
   "source": [
    "import pytest"
   ]
  },
  {
   "cell_type": "code",
   "execution_count": 72,
   "metadata": {},
   "outputs": [],
   "source": [
    "def do_monte_carlo(true_params, y_sd, cov_type, mean, meas_sds, n_repetitions,seed, n_obs):\n",
    "    \"\"\"Run a Monte Carlo simulation for a multivariate linear regrassion to study the impact of measurement error in the first independent variable.\n",
    "    \n",
    "    Args:\n",
    "        true_params (float): The true coefficients vector of regression model\n",
    "        y_sd (float): The standard deviation of the error term, i.e. of dependent variable y\n",
    "        cov_type (str): The type of covariance-matrix of independent variables,\n",
    "        either \"random\" or \"deterministic\"\n",
    "        mean (float): The expected value of independent variables\n",
    "        meas_sds (float): The standard deviation of measurement error\n",
    "        n_repetitions (int): Number of repetitions in the simulation\n",
    "        seed (int): A random number generator seed\n",
    "        n_obs (int): Number of observations\n",
    "\n",
    "    Returns: \n",
    "        data (DataFrame): Simulation result of Bias, Root-Mean-Sqaure Deviation (rmse), and Standard Deviation of Measurement Error(meas_sd) for each independent x variable.\n",
    "\n",
    "    Raises:\n",
    "        ValueError: If invalid cov_type input is given.\n",
    "\n",
    "    \"\"\"\n",
    "    rng = np.random.default_rng(seed)\n",
    "    n_params = len(true_params)\n",
    "    # Set up parameter names for plotting\n",
    "    names = [f\"x_{i}\" for i in range(len(true_params))]\n",
    "    # Initialize list to which we will append DataFrames that are concatenated later\n",
    "    to_concat = []\n",
    "    for meas_sd in meas_sds:\n",
    "        # Create a covariance matrix for the x variables\n",
    "        if cov_type == \"deterministic\":\n",
    "            cov = np.eye(n_params) + 0.2\n",
    "        elif cov_type == \"random\":\n",
    "            # Create a random but valid (i.e. symmetric positive semi-definite)\n",
    "            # covariance matrix by multiplying a random matrix with its transpose\n",
    "            # every matrix UU.T is positive semidefinite\n",
    "            # and adding 1 to the diagonal to improve conditioning\n",
    "            # because adding 1 to the diagonal ensures that our matrix is\n",
    "            # always invertible\n",
    "            helper = rng.uniform(low=-1, high=1, size=(n_params, n_params))\n",
    "            cov = helper @ helper.T + np.eye(n_params)\n",
    "        else:\n",
    "            msg = f\"Invalid cov_type: {cov_type}. Must be 'random' or 'deterministic.'\"\n",
    "            raise ValueError(\n",
    "                msg,\n",
    "            )\n",
    "\n",
    "        # Set up a list to which we will append parameter estimates\n",
    "        estimates = []\n",
    "        for _ in range(n_repetitions):\n",
    "            # Create independent variables\n",
    "            x = rng.multivariate_normal(mean=mean, cov=cov, size=n_obs)\n",
    "            # Draw error\n",
    "            # loc=mean, scale=std\n",
    "            epsilon = rng.normal(loc=0, scale=y_sd, size=n_obs)\n",
    "            # Calculate y (before adding measurement error!)\n",
    "            y = x @ true_params + epsilon\n",
    "            # Draw measurement error\n",
    "            meas_error = rng.normal(loc=0, scale=meas_sd, size=n_obs)\n",
    "            # Add measurement error\n",
    "            x[:, 0] += meas_error\n",
    "            # Calculate parameter estimates\n",
    "            params = LinearRegression().fit(x, y).coef_\n",
    "            # append them to the list of estimates\n",
    "            estimates.append(params)\n",
    "\n",
    "        # Set up empty DataFrame and add results we need for plotting\n",
    "        df = pd.DataFrame()\n",
    "        deviations = np.array(estimates) - true_params\n",
    "        df[\"name\"] = names\n",
    "        df[\"bias\"] = deviations.mean(axis=0)\n",
    "        df[\"rmse\"] = np.sqrt((deviations**2).mean(axis=0))\n",
    "        df[\"meas_sd\"] = meas_sd\n",
    "        to_concat.append(df)\n",
    "\n",
    "    # Concatenate the DataFrame\n",
    "    data = pd.concat(to_concat)\n",
    "    return data"
   ]
  },
  {
   "cell_type": "code",
   "execution_count": 75,
   "metadata": {},
   "outputs": [],
   "source": [
    "\n",
    "@pytest.fixture\n",
    "def inputs():\n",
    "    return {\n",
    "    \"true_params\" : np.ones(6),\n",
    "    \"y_sd\" : 1.5,\n",
    "    \"cov_type\" : \"random\",\n",
    "    \"mean\" : np.zeros(len(true_params)),\n",
    "    \"meas_sds\" : np.linspace(0, 5, 10),\n",
    "    \"n_repetitions\" : 200,\n",
    "    \"seed\" : 925408,\n",
    "    \"n_obs\" : 2_000,\n",
    "    }\n",
    "def test_monte_carlo_x0_parameter_biased_towards_zero(do_monte_carlo, inputs):\n",
    "      data = do_monte_carlo(*inputs)\n",
    "      \n",
    "      return data"
   ]
  },
  {
   "cell_type": "code",
   "execution_count": 86,
   "metadata": {},
   "outputs": [
    {
     "data": {
      "text/plain": [
       "array([0., 0., 0., 0., 0., 0., 0., 0.])"
      ]
     },
     "execution_count": 86,
     "metadata": {},
     "output_type": "execute_result"
    }
   ],
   "source": [
    "np.zeros(8)"
   ]
  },
  {
   "cell_type": "code",
   "execution_count": 158,
   "metadata": {},
   "outputs": [
    {
     "data": {
      "text/plain": [
       "6"
      ]
     },
     "execution_count": 158,
     "metadata": {},
     "output_type": "execute_result"
    }
   ],
   "source": [
    "len(np.ones(6))"
   ]
  },
  {
   "cell_type": "code",
   "execution_count": 159,
   "metadata": {},
   "outputs": [
    {
     "data": {
      "text/plain": [
       "array([0.        , 0.55555556, 1.11111111, 1.66666667, 2.22222222,\n",
       "       2.77777778, 3.33333333, 3.88888889, 4.44444444, 5.        ])"
      ]
     },
     "execution_count": 159,
     "metadata": {},
     "output_type": "execute_result"
    }
   ],
   "source": [
    "meas_sds"
   ]
  },
  {
   "cell_type": "code",
   "execution_count": 208,
   "metadata": {},
   "outputs": [
    {
     "data": {
      "text/plain": [
       "array([ 0.        ,  5.55555556, 11.11111111, 16.66666667, 22.22222222,\n",
       "       27.77777778, 33.33333333, 38.88888889, 44.44444444, 50.        ])"
      ]
     },
     "execution_count": 208,
     "metadata": {},
     "output_type": "execute_result"
    }
   ],
   "source": [
    "np.linspace(0, 50, 10)"
   ]
  },
  {
   "cell_type": "code",
   "execution_count": 214,
   "metadata": {},
   "outputs": [
    {
     "data": {
      "text/plain": [
       "array([1.66666667, 2.22222222, 2.77777778, 3.33333333, 3.88888889,\n",
       "       4.44444444, 5.        ])"
      ]
     },
     "execution_count": 214,
     "metadata": {},
     "output_type": "execute_result"
    }
   ],
   "source": [
    "meas_sds[3:]"
   ]
  },
  {
   "cell_type": "code",
   "execution_count": 17,
   "metadata": {},
   "outputs": [],
   "source": [
    "c = 4398543"
   ]
  },
  {
   "cell_type": "code",
   "execution_count": 18,
   "metadata": {},
   "outputs": [
    {
     "data": {
      "text/plain": [
       "4398543"
      ]
     },
     "execution_count": 18,
     "metadata": {},
     "output_type": "execute_result"
    }
   ],
   "source": [
    "hash(c)"
   ]
  },
  {
   "cell_type": "code",
   "execution_count": 24,
   "metadata": {},
   "outputs": [],
   "source": [
    "def _fail_if_seed_not_hashable(seed):\n",
    "    try: \n",
    "        hash(seed)\n",
    "    except TypeError:\n",
    "        raise"
   ]
  },
  {
   "cell_type": "code",
   "execution_count": 25,
   "metadata": {},
   "outputs": [
    {
     "ename": "TypeError",
     "evalue": "unhashable type: 'list'",
     "output_type": "error",
     "traceback": [
      "\u001b[0;31m---------------------------------------------------------------------------\u001b[0m",
      "\u001b[0;31mTypeError\u001b[0m                                 Traceback (most recent call last)",
      "Cell \u001b[0;32mIn[25], line 1\u001b[0m\n\u001b[0;32m----> 1\u001b[0m \u001b[43m_fail_if_seed_not_hashable\u001b[49m\u001b[43m(\u001b[49m\u001b[43m[\u001b[49m\u001b[38;5;241;43m1\u001b[39;49m\u001b[43m,\u001b[49m\u001b[38;5;241;43m2\u001b[39;49m\u001b[43m]\u001b[49m\u001b[43m)\u001b[49m\n",
      "Cell \u001b[0;32mIn[24], line 3\u001b[0m, in \u001b[0;36m_fail_if_seed_not_hashable\u001b[0;34m(seed)\u001b[0m\n\u001b[1;32m      1\u001b[0m \u001b[38;5;28;01mdef\u001b[39;00m \u001b[38;5;21m_fail_if_seed_not_hashable\u001b[39m(seed):\n\u001b[1;32m      2\u001b[0m     \u001b[38;5;28;01mtry\u001b[39;00m: \n\u001b[0;32m----> 3\u001b[0m         \u001b[38;5;28;43mhash\u001b[39;49m\u001b[43m(\u001b[49m\u001b[43mseed\u001b[49m\u001b[43m)\u001b[49m\n\u001b[1;32m      4\u001b[0m     \u001b[38;5;28;01mexcept\u001b[39;00m \u001b[38;5;167;01mTypeError\u001b[39;00m:\n\u001b[1;32m      5\u001b[0m         \u001b[38;5;28;01mraise\u001b[39;00m\n",
      "\u001b[0;31mTypeError\u001b[0m: unhashable type: 'list'"
     ]
    }
   ],
   "source": [
    "_fail_if_seed_not_hashable([1,2])"
   ]
  },
  {
   "cell_type": "code",
   "execution_count": 31,
   "metadata": {},
   "outputs": [],
   "source": [
    "def _fail_if_cov_type_not_valid(str):\n",
    "    if not (str == 'deterministic' or str == 'random'):\n",
    "        report = f\"Invalid cov_type: {str}. Must be 'random' or 'deterministic'\"\n",
    "        raise ValueError(\n",
    "                report,\n",
    "            )\n",
    "    "
   ]
  },
  {
   "cell_type": "code",
   "execution_count": 34,
   "metadata": {},
   "outputs": [],
   "source": [
    "_fail_if_cov_type_not_valid('deterministic')"
   ]
  },
  {
   "cell_type": "code",
   "execution_count": 35,
   "metadata": {},
   "outputs": [],
   "source": [
    "def _fail_if_parameters_not_numerical(sr):\n",
    "    if np.any([isinstance(i,str) for i in sr]):\n",
    "        report = \"Parameter cannot be a string.\"\n",
    "        raise TypeError(report)\n",
    "    "
   ]
  },
  {
   "cell_type": "code",
   "execution_count": 37,
   "metadata": {},
   "outputs": [],
   "source": [
    "import numpy as np"
   ]
  },
  {
   "cell_type": "code",
   "execution_count": 39,
   "metadata": {},
   "outputs": [
    {
     "ename": "TypeError",
     "evalue": "'int' object is not iterable",
     "output_type": "error",
     "traceback": [
      "\u001b[0;31m---------------------------------------------------------------------------\u001b[0m",
      "\u001b[0;31mTypeError\u001b[0m                                 Traceback (most recent call last)",
      "Cell \u001b[0;32mIn[39], line 1\u001b[0m\n\u001b[0;32m----> 1\u001b[0m \u001b[43m_fail_if_parameters_not_numerical\u001b[49m\u001b[43m(\u001b[49m\u001b[38;5;241;43m3\u001b[39;49m\u001b[43m)\u001b[49m\n",
      "Cell \u001b[0;32mIn[35], line 2\u001b[0m, in \u001b[0;36m_fail_if_parameters_not_numerical\u001b[0;34m(sr)\u001b[0m\n\u001b[1;32m      1\u001b[0m \u001b[38;5;28;01mdef\u001b[39;00m \u001b[38;5;21m_fail_if_parameters_not_numerical\u001b[39m(sr):\n\u001b[0;32m----> 2\u001b[0m     \u001b[38;5;28;01mif\u001b[39;00m np\u001b[38;5;241m.\u001b[39many(\u001b[43m[\u001b[49m\u001b[38;5;28;43misinstance\u001b[39;49m\u001b[43m(\u001b[49m\u001b[43mi\u001b[49m\u001b[43m,\u001b[49m\u001b[38;5;28;43mstr\u001b[39;49m\u001b[43m)\u001b[49m\u001b[43m \u001b[49m\u001b[38;5;28;43;01mfor\u001b[39;49;00m\u001b[43m \u001b[49m\u001b[43mi\u001b[49m\u001b[43m \u001b[49m\u001b[38;5;129;43;01min\u001b[39;49;00m\u001b[43m \u001b[49m\u001b[43msr\u001b[49m\u001b[43m]\u001b[49m):\n\u001b[1;32m      3\u001b[0m         report \u001b[38;5;241m=\u001b[39m \u001b[38;5;124m\"\u001b[39m\u001b[38;5;124mParameter cannot be a string.\u001b[39m\u001b[38;5;124m\"\u001b[39m\n\u001b[1;32m      4\u001b[0m         \u001b[38;5;28;01mraise\u001b[39;00m \u001b[38;5;167;01mTypeError\u001b[39;00m(report)\n",
      "\u001b[0;31mTypeError\u001b[0m: 'int' object is not iterable"
     ]
    }
   ],
   "source": [
    "_fail_if_parameters_not_numerical(3)"
   ]
  },
  {
   "cell_type": "code",
   "execution_count": 42,
   "metadata": {},
   "outputs": [],
   "source": [
    "c = \"3\""
   ]
  },
  {
   "cell_type": "code",
   "execution_count": 43,
   "metadata": {},
   "outputs": [
    {
     "data": {
      "text/plain": [
       "True"
      ]
     },
     "execution_count": 43,
     "metadata": {},
     "output_type": "execute_result"
    }
   ],
   "source": [
    "c.isnumeric()"
   ]
  }
 ],
 "metadata": {
  "kernelspec": {
   "display_name": "epp",
   "language": "python",
   "name": "python3"
  },
  "language_info": {
   "codemirror_mode": {
    "name": "ipython",
    "version": 3
   },
   "file_extension": ".py",
   "mimetype": "text/x-python",
   "name": "python",
   "nbconvert_exporter": "python",
   "pygments_lexer": "ipython3",
   "version": "3.11.0"
  }
 },
 "nbformat": 4,
 "nbformat_minor": 2
}
